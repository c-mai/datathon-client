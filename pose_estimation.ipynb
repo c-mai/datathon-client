{
 "cells": [
  {
   "cell_type": "code",
   "execution_count": 1,
   "metadata": {},
   "outputs": [
    {
     "name": "stdout",
     "output_type": "stream",
     "text": [
      "Jupyter environment detected. Enabling Open3D WebVisualizer.\n",
      "[Open3D INFO] WebRTC GUI backend enabled.\n",
      "[Open3D INFO] WebRTCWindowSystem: HTTP handshake server disabled.\n"
     ]
    }
   ],
   "source": [
    "import open3d as o3d\n",
    "from ovis.visualization.visualizer import Visualizer\n",
    "vis = Visualizer(view={\n",
    "    \"boundingbox_max\" : [ 6.9281997680664063, 6.0, 30.0 ],\n",
    "    \"boundingbox_min\" : [ -6.9281997680664063, -6.0, 0.0 ],\n",
    "    \"field_of_view\" : 60.0,\n",
    "    \"front\" : [ 0.51530507626740574, 0.67525725755210975, -0.52771992050352512 ],\n",
    "    \"lookat\" : [ 0.0, 0.0, 15.0 ],\n",
    "    \"up\" : [ -0.85631846790064325, 0.43037078955319003, -0.28548146180034029 ],\n",
    "    \"zoom\" : 0.69999999999999996\n",
    "})\n",
    "\n",
    "mesh = o3d.io.read_triangle_mesh(\"C:/Users/TZMNL2/Downloads/NUT_JOB__Nut_Bolt_Washer_and_Threaded_Rod_Factory/files/bolt_25x8.stl\")"
   ]
  },
  {
   "cell_type": "code",
   "execution_count": 2,
   "metadata": {},
   "outputs": [],
   "source": [
    "vis.draw_geometries([mesh])"
   ]
  },
  {
   "cell_type": "code",
   "execution_count": 3,
   "metadata": {},
   "outputs": [
    {
     "name": "stdout",
     "output_type": "stream",
     "text": [
      "Plane equation: 0.00x + -0.00y + 1.00z + -5.00 = 0\n"
     ]
    }
   ],
   "source": [
    "pcd = mesh.sample_points_uniformly(number_of_points=50000)\n",
    "\n",
    "plane_model, inliers = pcd.segment_plane(distance_threshold=0.01,\n",
    "                                         ransac_n=3,\n",
    "                                         num_iterations=1000)\n",
    "[a, b, c, d] = plane_model\n",
    "print(f\"Plane equation: {a:.2f}x + {b:.2f}y + {c:.2f}z + {d:.2f} = 0\")\n",
    "\n",
    "inlier_cloud = pcd.select_by_index(inliers)\n",
    "inlier_cloud.paint_uniform_color([1.0, 0, 0])\n",
    "outlier_cloud = pcd.select_by_index(inliers, invert=True)\n",
    "outlier_cloud.paint_uniform_color([0, 0, 1.0])\n",
    "vis.draw_geometries([inlier_cloud, outlier_cloud])"
   ]
  },
  {
   "cell_type": "code",
   "execution_count": 10,
   "metadata": {},
   "outputs": [
    {
     "name": "stdout",
     "output_type": "stream",
     "text": [
      "Plane equation: 0.00x + 0.00y + 1.00z + -0.00 = 0\n"
     ]
    }
   ],
   "source": [
    "plane_model, inliers = pcd.segment_plane(distance_threshold=0.01,\n",
    "                                         ransac_n=3,\n",
    "                                         num_iterations=1000)\n",
    "[a, b, c, d] = plane_model\n",
    "print(f\"Plane equation: {a:.2f}x + {b:.2f}y + {c:.2f}z + {d:.2f} = 0\")"
   ]
  },
  {
   "cell_type": "code",
   "execution_count": 5,
   "metadata": {},
   "outputs": [],
   "source": [
    "from transformation_matrix import TransformationMatrix\n",
    "import numpy as np\n",
    "import copy\n",
    "\n",
    "class Solution:\n",
    "    def __init__(self, source):\n",
    "        self.source = source\n",
    "\n",
    "    @staticmethod\n",
    "    def estimate_transformation(source, target):\n",
    "        def fit_plane(pcd):\n",
    "            plane_model, inliers = pcd.segment_plane(distance_threshold=0.01,\n",
    "                                         ransac_n=3,\n",
    "                                         num_iterations=1000)\n",
    "            inlier_cloud = pcd.select_by_index(inliers)\n",
    "            return plane_model, inlier_cloud\n",
    "\n",
    "        def get_bolt_head(pcd):\n",
    "            plane_model, inlier_cloud = fit_plane(pcd)\n",
    "            normal = plane_model[:3]\n",
    "            center = np.median(inlier_cloud, axis=0)\n",
    "            return normal, center\n",
    "\n",
    "        def rotation():\n",
    "            vec = np.cross(src_normal-tgt_normal)\n",
    "            unit = vec / np.linalg.norm(vec)\n",
    "            rotvec = unit * np.dot(src_normal-tgt_normal)\n",
    "            return R.from_rotvec(rotvec).as_matrix()\n",
    "\n",
    "        src_normal, src_center = get_bolt_head(source)\n",
    "        tgt_normal, tgt_center = get_bolt_head(target)\n",
    "\n",
    "        translation = tgt_center - src_center\n",
    "        return TransformationMatrix.compose(rotation(), translation)\n",
    "\n",
    "    @staticmethod\n",
    "    def rmseT(g_est, g_gt):\n",
    "        \"\"\"\n",
    "        Evaluation metrics\n",
    "        - rmseP: Root square mean error of projection (rmseP) is\n",
    "        calculated as the mean of point-point projection error after\n",
    "        applying the transformation.\n",
    "        - rmseT: Root square mean error of transformation (rmseT) represents\n",
    "        the root-mean-square error between estimated transformation g_{est}\n",
    "        and ground truth transformation g_{gt}.\n",
    "        - RE: The rotation error (RE) is calculated\n",
    "        as the Euclidean distance of rotation parameters between\n",
    "        estimated r_{est} and ground truth r_{gt}.\n",
    "        The rotation parameters are angles on three axes.\n",
    "        - TE: The translation error (TE) is\n",
    "        calculated as the Euclidean distance of translation parameters\n",
    "        between estimated t_{est} and ground truth t_{gt}.\n",
    "        \"\"\"\n",
    "        return np.sqrt(((g_est - g_gt) ** 2).mean())\n",
    "\n",
    "    def evaluate_random():\n",
    "        transform_truth = TransformationMatrix.make_random()\n",
    "        transformed = copy.deepcopy(Solution.target).transform(transform_truth)\n",
    "        transform_estimate = Solution.estimate_transformation(transformed)\n",
    "        return Solution.rmseT(transform_truth, transform_estimate)\n",
    "\n",
    "    def evaluate_batch(self, count=100):\n",
    "        return np.mean([self.evaluate_random() for _ in range(count)])"
   ]
  },
  {
   "cell_type": "code",
   "execution_count": null,
   "metadata": {},
   "outputs": [],
   "source": []
  }
 ],
 "metadata": {
  "interpreter": {
   "hash": "39e99fcfdd61b5704758b6b7733e4b76ffffb23e1485298484020432a3c8cc54"
  },
  "kernelspec": {
   "display_name": "Python 3.8.11 64-bit ('datathon': conda)",
   "name": "python3"
  },
  "language_info": {
   "codemirror_mode": {
    "name": "ipython",
    "version": 3
   },
   "file_extension": ".py",
   "mimetype": "text/x-python",
   "name": "python",
   "nbconvert_exporter": "python",
   "pygments_lexer": "ipython3",
   "version": "3.8.11"
  },
  "orig_nbformat": 4
 },
 "nbformat": 4,
 "nbformat_minor": 2
}
