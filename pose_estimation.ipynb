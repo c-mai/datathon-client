{
 "cells": [
  {
   "cell_type": "code",
   "execution_count": 1,
   "metadata": {},
   "outputs": [
    {
     "name": "stdout",
     "output_type": "stream",
     "text": [
      "Jupyter environment detected. Enabling Open3D WebVisualizer.\n",
      "[Open3D INFO] WebRTC GUI backend enabled.\n",
      "[Open3D INFO] WebRTCWindowSystem: HTTP handshake server disabled.\n"
     ]
    }
   ],
   "source": [
    "import open3d as o3d\n",
    "from ovis.visualization.visualizer import Visualizer\n",
    "vis = Visualizer(view={\n",
    "    \"boundingbox_max\" : [ 6.9281997680664063, 6.0, 30.0 ],\n",
    "    \"boundingbox_min\" : [ -6.9281997680664063, -6.0, 0.0 ],\n",
    "    \"field_of_view\" : 60.0,\n",
    "    \"front\" : [ 0.51530507626740574, 0.67525725755210975, -0.52771992050352512 ],\n",
    "    \"lookat\" : [ 0.0, 0.0, 15.0 ],\n",
    "    \"up\" : [ -0.85631846790064325, 0.43037078955319003, -0.28548146180034029 ],\n",
    "    \"zoom\" : 0.69999999999999996\n",
    "})\n",
    "\n",
    "bolt_mesh = o3d.io.read_triangle_mesh(\"C:/Users/TZMNL2/Downloads/NUT_JOB__Nut_Bolt_Washer_and_Threaded_Rod_Factory/files/bolt_25x8.stl\")"
   ]
  },
  {
   "cell_type": "code",
   "execution_count": 3,
   "metadata": {},
   "outputs": [],
   "source": [
    "vis.draw_geometries([bolt_mesh])"
   ]
  },
  {
   "cell_type": "code",
   "execution_count": 3,
   "metadata": {},
   "outputs": [
    {
     "name": "stdout",
     "output_type": "stream",
     "text": [
      "Plane equation: 0.00x + -0.00y + 1.00z + -5.00 = 0\n"
     ]
    }
   ],
   "source": [
    "pcd = bolt_mesh.sample_points_uniformly(number_of_points=50000)\n",
    "\n",
    "plane_model, inliers = pcd.segment_plane(distance_threshold=0.01,\n",
    "                                         ransac_n=3,\n",
    "                                         num_iterations=1000)\n",
    "[a, b, c, d] = plane_model\n",
    "print(f\"Plane equation: {a:.2f}x + {b:.2f}y + {c:.2f}z + {d:.2f} = 0\")\n",
    "\n",
    "inlier_cloud = pcd.select_by_index(inliers)\n",
    "inlier_cloud.paint_uniform_color([1.0, 0, 0])\n",
    "outlier_cloud = pcd.select_by_index(inliers, invert=True)\n",
    "outlier_cloud.paint_uniform_color([0, 0, 1.0])\n",
    "vis.draw_geometries([inlier_cloud, outlier_cloud])"
   ]
  },
  {
   "cell_type": "code",
   "execution_count": 10,
   "metadata": {},
   "outputs": [
    {
     "name": "stdout",
     "output_type": "stream",
     "text": [
      "Plane equation: 0.00x + 0.00y + 1.00z + -0.00 = 0\n"
     ]
    }
   ],
   "source": [
    "plane_model, inliers = pcd.segment_plane(distance_threshold=0.01,\n",
    "                                         ransac_n=3,\n",
    "                                         num_iterations=1000)\n",
    "[a, b, c, d] = plane_model\n",
    "print(f\"Plane equation: {a:.2f}x + {b:.2f}y + {c:.2f}z + {d:.2f} = 0\")"
   ]
  },
  {
   "cell_type": "code",
   "execution_count": 5,
   "metadata": {},
   "outputs": [],
   "source": [
    "from open3d import *\n",
    "import numpy\n",
    "import transforms3d\n",
    "from scipy.spatial.transform import *\n",
    "import matplotlib.pyplot as plt\n",
    "\n",
    "\n",
    "original_pose = numpy.array([[1, 0, 0, 0],\n",
    "                             [0, 1, 0, 0],\n",
    "                             [0, 0, 1, 2],\n",
    "                             [0, 0, 0, 1]])\n",
    "\n",
    "rotations_eul = numpy.random.randint(-50, 50, size=(4000, 3)) / 100.0\n",
    "\n",
    "point_list = []\n",
    "\n",
    "for i, eu in enumerate(rotations_eul):\n",
    "    pose = numpy.dot(transforms3d.affines.compose([0, 0, 0],\n",
    "                                                  Rotation.from_euler(\"xyz\", eu).as_dcm(),\n",
    "                                                  [1, 1, 1]),\n",
    "                     numpy.asarray(original_pose))\n",
    "    point = numpy.dot(pose, numpy.array([0,0,0,1]).T).T[0:3]\n",
    "    point_list.append(point)\n",
    "\n",
    "pcd = PointCloud()\n",
    "pcd.points = Vector3dVector(point_list)\n",
    "\n",
    "camera_parameters = camera.PinholeCameraParameters()\n",
    "camera_parameters.extrinsic = numpy.array([[1,0,0,1],\n",
    "                                           [0,1,0,0],\n",
    "                                           [0,0,1,2],\n",
    "                                           [0,0,0,1]])\n",
    "camera_parameters.intrinsic.set_intrinsics(width=1920, height=1080, fx=1000, fy=1000, cx=959.5, cy=539.5)\n",
    "\n",
    "viewer = visualization.Visualizer()\n",
    "viewer.create_window()\n",
    "viewer.add_geometry(pcd)\n",
    "viewer.run()\n",
    "\n",
    "control = viewer.get_view_control()\n",
    "control.convert_from_pinhole_camera_parameters(camera_parameters)\n",
    "\n",
    "\n",
    "depth = viewer.capture_depth_float_buffer()\n",
    "print(\"show depth\")\n",
    "print(numpy.asarray(depth))\n",
    "plt.imshow(numpy.asarray(depth))\n",
    "plt.imsave(\"testing_depth.png\", np.asarray(depth), dpi = 1)\n",
    "plt.show()"
   ]
  },
  {
   "cell_type": "code",
   "execution_count": 1,
   "metadata": {},
   "outputs": [
    {
     "name": "stdout",
     "output_type": "stream",
     "text": [
      "Jupyter environment detected. Enabling Open3D WebVisualizer.\n",
      "[Open3D INFO] WebRTC GUI backend enabled.\n",
      "[Open3D INFO] WebRTCWindowSystem: HTTP handshake server disabled.\n"
     ]
    },
    {
     "ename": "NameError",
     "evalue": "name 'pcd' is not defined",
     "output_type": "error",
     "traceback": [
      "\u001b[1;31m---------------------------------------------------------------------------\u001b[0m",
      "\u001b[1;31mNameError\u001b[0m                                 Traceback (most recent call last)",
      "\u001b[1;32m~\\AppData\\Local\\Temp/ipykernel_36920/2429210558.py\u001b[0m in \u001b[0;36m<module>\u001b[1;34m\u001b[0m\n\u001b[0;32m      9\u001b[0m \u001b[0mvis\u001b[0m \u001b[1;33m=\u001b[0m \u001b[0mo3d\u001b[0m\u001b[1;33m.\u001b[0m\u001b[0mvisualization\u001b[0m\u001b[1;33m.\u001b[0m\u001b[0mVisualizer\u001b[0m\u001b[1;33m(\u001b[0m\u001b[1;33m)\u001b[0m\u001b[1;33m\u001b[0m\u001b[1;33m\u001b[0m\u001b[0m\n\u001b[0;32m     10\u001b[0m \u001b[0mvis\u001b[0m\u001b[1;33m.\u001b[0m\u001b[0mcreate_window\u001b[0m\u001b[1;33m(\u001b[0m\u001b[0mvisible\u001b[0m \u001b[1;33m=\u001b[0m \u001b[1;32mTrue\u001b[0m\u001b[1;33m)\u001b[0m\u001b[1;33m\u001b[0m\u001b[1;33m\u001b[0m\u001b[0m\n\u001b[1;32m---> 11\u001b[1;33m \u001b[0mvis\u001b[0m\u001b[1;33m.\u001b[0m\u001b[0madd_geometry\u001b[0m\u001b[1;33m(\u001b[0m\u001b[0mpcd\u001b[0m\u001b[1;33m)\u001b[0m\u001b[1;33m\u001b[0m\u001b[1;33m\u001b[0m\u001b[0m\n\u001b[0m\u001b[0;32m     12\u001b[0m \u001b[1;33m\u001b[0m\u001b[0m\n\u001b[0;32m     13\u001b[0m \u001b[0mdepth\u001b[0m \u001b[1;33m=\u001b[0m \u001b[0mvis\u001b[0m\u001b[1;33m.\u001b[0m\u001b[0mcapture_depth_float_buffer\u001b[0m\u001b[1;33m(\u001b[0m\u001b[1;32mFalse\u001b[0m\u001b[1;33m)\u001b[0m\u001b[1;33m\u001b[0m\u001b[1;33m\u001b[0m\u001b[0m\n",
      "\u001b[1;31mNameError\u001b[0m: name 'pcd' is not defined"
     ]
    }
   ],
   "source": [
    "import open3d as o3d\n",
    "import numpy as np\n",
    "mesh = o3d.io.read_triangle_mesh(\"C:/Users/TZMNL2/Downloads/NUT_JOB__Nut_Bolt_Washer_and_Threaded_Rod_Factory/files/bolt_25x8.stl\")\n",
    "# vis = o3d.visualization.Visualizer()\n",
    "\n",
    "# vis.create_window('pcl',640, 480, 50, 50, True)\n",
    "# vis.add_geometry(pcd)\n",
    "\n",
    "vis = o3d.visualization.Visualizer()\n",
    "vis.create_window(visible = True)\n",
    "vis.add_geometry(mesh)\n",
    "\n",
    "depth = vis.capture_depth_float_buffer(False)\n",
    "\n",
    "image = vis.capture_screen_float_buffer(False)\n",
    "plt.imshow(np.asarray(depth))\n",
    "# o3d.io.write_image(\"./test_depth.png\", depth)\n",
    "\n",
    "# plt.imsave(\"./test_depth.png\", np.asarray(out_depth))#, dpi = 1)\n",
    "\n",
    "# from PIL import Image\n",
    "# img = Image.open('./test_depth.png').convert('LA')\n",
    "# img.save('./greyscale.png')"
   ]
  }
 ],
 "metadata": {
  "interpreter": {
   "hash": "39e99fcfdd61b5704758b6b7733e4b76ffffb23e1485298484020432a3c8cc54"
  },
  "kernelspec": {
   "display_name": "Python 3.8.11 64-bit ('datathon': conda)",
   "name": "python3"
  },
  "language_info": {
   "codemirror_mode": {
    "name": "ipython",
    "version": 3
   },
   "file_extension": ".py",
   "mimetype": "text/x-python",
   "name": "python",
   "nbconvert_exporter": "python",
   "pygments_lexer": "ipython3",
   "version": "3.8.11"
  },
  "orig_nbformat": 4
 },
 "nbformat": 4,
 "nbformat_minor": 2
}
