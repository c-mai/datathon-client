{
 "cells": [
  {
   "cell_type": "code",
   "execution_count": 1,
   "metadata": {},
   "outputs": [
    {
     "name": "stdout",
     "output_type": "stream",
     "text": [
      "Jupyter environment detected. Enabling Open3D WebVisualizer.\n",
      "[Open3D INFO] WebRTC GUI backend enabled.\n",
      "[Open3D INFO] WebRTCWindowSystem: HTTP handshake server disabled.\n"
     ]
    }
   ],
   "source": [
    "import open3d as o3d\n",
    "import numpy as np\n",
    "from visualizer import Visualizer\n",
    "import matplotlib.pyplot as plt\n",
    "from transformation_matrix import TransformationMatrix\n",
    "\n",
    "if not 'vis' in locals():\n",
    "    vis = Visualizer()"
   ]
  },
  {
   "cell_type": "code",
   "execution_count": 3,
   "metadata": {},
   "outputs": [
    {
     "name": "stdout",
     "output_type": "stream",
     "text": [
      "[[  0   0]\n",
      " [-30  30]\n",
      " [-20  20]]\n",
      "x=0.0, y=22.72, z=-2.69\n",
      "roll=-39.0°, pitch=35.86°, yaw=1.69°\n"
     ]
    },
    {
     "data": {
      "text/plain": [
       "<matplotlib.image.AxesImage at 0x21150b63430>"
      ]
     },
     "execution_count": 3,
     "metadata": {},
     "output_type": "execute_result"
    },
    {
     "data": {
      "image/png": "[encoded data removed]",
      "text/plain": [
       "<Figure size 1080x1080 with 2 Axes>"
      ]
     },
     "metadata": {
      "needs_background": "light"
     },
     "output_type": "display_data"
    }
   ],
   "source": [
    "view = {\n",
    "    \"field_of_view\" : 60.0,\n",
    "    \"front\" : [ -1, 0, 0 ],\n",
    "    \"lookat\" : [ 0, 0, 0 ],\n",
    "    \"up\" : [ 0, 0, 1.0 ],\n",
    "    \"zoom\" : 1\n",
    "}\n",
    "\n",
    "bolt_mesh = o3d.io.read_triangle_mesh(\"bolt.stl\")\n",
    "bolt_mesh.compute_vertex_normals()\n",
    "bolt_mesh.compute_triangle_normals()\n",
    "\n",
    "t = TransformationMatrix.make_random(40, [0, 30, 20])\n",
    "print(t)\n",
    "bolt_mesh.transform(t)\n",
    "vis.draw_geometries([bolt_mesh], view=view, moveable=False)\n",
    "\n",
    "depth = vis.vis.capture_depth_float_buffer(False)\n",
    "image = vis.vis.capture_screen_float_buffer(False)\n",
    "\n",
    "plt.figure(figsize=(15,15))\n",
    "plt.subplot(121)\n",
    "plt.imshow(np.asarray(depth))\n",
    "plt.subplot(122)\n",
    "plt.imshow(np.asarray(image))"
   ]
  },
  {
   "cell_type": "code",
   "execution_count": 8,
   "metadata": {},
   "outputs": [
    {
     "name": "stdout",
     "output_type": "stream",
     "text": [
      "x=-0.0, y=0.0, z=51.23\n",
      "roll=90.0°, pitch=-90.0°, yaw=0.0°\n"
     ]
    }
   ],
   "source": [
    "params = vis.vis.get_view_control().convert_to_pinhole_camera_parameters()\n",
    "I = params.intrinsic\n",
    "E = params.extrinsic\n",
    "print(TransformationMatrix(E))"
   ]
  },
  {
   "cell_type": "code",
   "execution_count": 5,
   "metadata": {},
   "outputs": [],
   "source": [
    "# https://medium.com/yodayoda/from-depth-map-to-point-cloud-7473721d3f\n",
    "pcd = o3d.geometry.PointCloud().create_from_depth_image(depth, I, E)\n",
    "vis.draw_geometries([pcd])\n",
    "ctl = vis.vis.get_view_control()\n",
    "ctl.convert_from_pinhole_camera_parameters(params)\n",
    "vis.render()"
   ]
  }
 ],
 "metadata": {
  "interpreter": {
   "hash": "39e99fcfdd61b5704758b6b7733e4b76ffffb23e1485298484020432a3c8cc54"
  },
  "kernelspec": {
   "display_name": "Python 3.8.11 64-bit ('datathon': conda)",
   "name": "python3"
  },
  "language_info": {
   "codemirror_mode": {
    "name": "ipython",
    "version": 3
   },
   "file_extension": ".py",
   "mimetype": "text/x-python",
   "name": "python",
   "nbconvert_exporter": "python",
   "pygments_lexer": "ipython3",
   "version": "3.8.11"
  },
  "orig_nbformat": 4
 },
 "nbformat": 4,
 "nbformat_minor": 2
}
